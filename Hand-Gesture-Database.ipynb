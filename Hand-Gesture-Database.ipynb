{
 "cells": [
  {
   "cell_type": "code",
   "execution_count": 1,
   "id": "682c6455",
   "metadata": {},
   "outputs": [],
   "source": [
    "#creating our own dataset\n",
    "import cv2\n",
    "import numpy as np\n",
    "import os"
   ]
  },
  {
   "cell_type": "code",
   "execution_count": 2,
   "id": "accf88bc",
   "metadata": {},
   "outputs": [],
   "source": [
    "#global parameters for width and height of images\n",
    "image_x,image_y=50,50\n"
   ]
  },
  {
   "cell_type": "code",
   "execution_count": 3,
   "id": "240b85cc",
   "metadata": {},
   "outputs": [],
   "source": [
    "#creating a folder\n",
    "def create_folder(folder_name):\n",
    "    if not os.path.exists(folder_name):\n",
    "        os.mkdir(folder_name)"
   ]
  },
  {
   "cell_type": "code",
   "execution_count": 4,
   "id": "c1120366",
   "metadata": {},
   "outputs": [],
   "source": [
    "#main function for storing the images\n",
    "def store_images(g_id):\n",
    "    #for each gestures storing 1200 images\n",
    "    total_pics=1200\n",
    "    #opening webcam\n",
    "    cap=cv2.VideoCapture(0)\n",
    "    #particular area in which gestures is captured\n",
    "    x,y,w,h=300,50,350,350\n",
    "    #creating gestures folder\n",
    "    create_folder(\"gestures/\"+str(g_id))\n",
    "    pic_no=0\n",
    "    flag_start_capturing=False\n",
    "    frames=0\n",
    "    \n",
    "    while True:\n",
    "        ret, frame = cap.read()\n",
    "        frame = cv2.flip(frame, 1)\n",
    "        if ret:              #check return value,i.e. if camera is open then value is return ,otherwise condition is false\n",
    "            hsv = cv2.cvtColor(frame, cv2.COLOR_BGR2HSV)\n",
    "            mask2 = cv2.inRange(hsv, np.array([2, 50, 60]), np.array([25, 150, 255]))\n",
    "            res = cv2.bitwise_and(frame, frame, mask=mask2)\n",
    "            gray = cv2.cvtColor(res,cv2.COLOR_BGR2GRAY)\n",
    "            median = cv2.GaussianBlur(gray, (5, 5), 0)\n",
    "\n",
    "            kernel_square = np.ones((5, 5), np.uint8)\n",
    "            dilation = cv2.dilate(median, kernel_square, iterations=2)\n",
    "            opening = cv2.morphologyEx(dilation, cv2.MORPH_CLOSE, kernel_square)\n",
    "            ret, thresh = cv2.threshold(opening, 30, 255, cv2.THRESH_BINARY)\n",
    "            thresh = thresh[y:y+h, x:x+w]\n",
    "            # this is contour section (creating of contour)\n",
    "            contours= cv2.findContours(thresh.copy(), cv2.RETR_TREE, cv2.CHAIN_APPROX_NONE)[0]\n",
    "            centre = None\n",
    "            if len(contours)>0:\n",
    "                    contour = max(contours, key=cv2.contourArea)\n",
    "                    if cv2.contourArea(contour) > 10000 and frames > 50:\n",
    "                        x1, y1, w1, h1 = cv2.boundingRect(contour)\n",
    "                        pic_no+=1\n",
    "                        save_img = thresh[y1:y1+h1, x1:x1+w1]\n",
    "                        save_img = cv2.resize(save_img, (image_x, image_y))\n",
    "                        cv2.putText(frame, \"Capturing...\", (30, 60), cv2.FONT_HERSHEY_TRIPLEX, 2, (127, 255, 255))\n",
    "                        cv2.imwrite(\"gestures/\"+str(g_id)+\"/\"+str(pic_no)+\".png\", save_img)\n",
    "\n",
    "                    cv2.rectangle(frame, (x, y), (x+w,y+h), (0, 255, 0), 2)\n",
    "                    cv2.putText(frame, str(pic_no), (30, 400), cv2.FONT_HERSHEY_TRIPLEX, 1.5, (127, 127, 255))\n",
    "                    cv2.imshow(\"Capturing gesture\", frame)\n",
    "                    cv2.imshow(\"thresh\", thresh)\n",
    "                    keypress = cv2.waitKey(1)\n",
    "                    # press key 'c' to start capturing of gesture \n",
    "                    if keypress == ord('c'):    \n",
    "                        if flag_start_capturing == False:\n",
    "                            flag_start_capturing = True;\n",
    "                        else:\n",
    "                            flag_start_capturing = False;\n",
    "                            frames = 0\n",
    "                    if flag_start_capturing == True:\n",
    "                        frames+=1\n",
    "                    if pic_no == total_pics:\n",
    "                        break"
   ]
  },
  {
   "cell_type": "code",
   "execution_count": 5,
   "id": "f3e33d14",
   "metadata": {},
   "outputs": [
    {
     "name": "stdout",
     "output_type": "stream",
     "text": [
      "Enter Gesture No.:20\n"
     ]
    }
   ],
   "source": [
    "g_id=input(\"Enter Gesture No.:\")\n",
    "store_images(g_id)"
   ]
  },
  {
   "cell_type": "code",
   "execution_count": null,
   "id": "edfae1f9",
   "metadata": {},
   "outputs": [],
   "source": []
  }
 ],
 "metadata": {
  "kernelspec": {
   "display_name": "Python 3 (ipykernel)",
   "language": "python",
   "name": "python3"
  },
  "language_info": {
   "codemirror_mode": {
    "name": "ipython",
    "version": 3
   },
   "file_extension": ".py",
   "mimetype": "text/x-python",
   "name": "python",
   "nbconvert_exporter": "python",
   "pygments_lexer": "ipython3",
   "version": "3.9.7"
  }
 },
 "nbformat": 4,
 "nbformat_minor": 5
}
